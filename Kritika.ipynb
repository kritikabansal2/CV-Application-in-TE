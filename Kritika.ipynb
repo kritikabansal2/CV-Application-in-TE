{
  "nbformat": 4,
  "nbformat_minor": 0,
  "metadata": {
    "colab": {
      "name": "Kritika.ipynb",
      "provenance": [],
      "collapsed_sections": []
    },
    "kernelspec": {
      "name": "python3",
      "display_name": "Python 3"
    },
    "language_info": {
      "name": "python"
    }
  },
  "cells": [
    {
      "cell_type": "code",
      "source": [
        "import numpy as np\n",
        "import pandas as pd\n",
        "import seaborn as sns\n",
        "%matplotlib inline\n",
        "from matplotlib import pyplot as plt\n",
        "from sklearn.model_selection import train_test_split\n",
        "from sklearn.linear_model import LogisticRegression\n",
        "from sklearn.datasets import make_classification\n",
        "import warnings\n",
        "warnings.filterwarnings(\"ignore\")"
      ],
      "metadata": {
        "id": "5bKrfZZ9xLGt"
      },
      "execution_count": 113,
      "outputs": []
    },
    {
      "cell_type": "code",
      "source": [
        "file_1=pd.read_csv(\"crack_detection.csv\")"
      ],
      "metadata": {
        "id": "D3SNI2-Yx9ZO"
      },
      "execution_count": 114,
      "outputs": []
    },
    {
      "cell_type": "code",
      "source": [
        "file_1"
      ],
      "metadata": {
        "colab": {
          "base_uri": "https://localhost:8080/",
          "height": 505
        },
        "id": "pV8Cyfl-zt5R",
        "outputId": "3338f36b-ad42-4e3a-91cb-6ea277d55fa8"
      },
      "execution_count": 115,
      "outputs": [
        {
          "output_type": "execute_result",
          "data": {
            "text/plain": [
              "     Unnamed: 0    mean_r      std_r     kur_r    skew_r    mean_g      std_g  \\\n",
              "0             0  107.5734  29.267480  0.744029  0.408828  110.2533  26.953218   \n",
              "1             1  178.6713  14.917756  3.192406  0.238175  184.4947  14.882156   \n",
              "2             2  176.6517  34.618255 -0.146336 -0.421552  161.3083  33.688699   \n",
              "3             3  113.5760  20.084502  0.719752  0.737728  114.0056  19.536222   \n",
              "4             4  125.3565  29.251595  0.430344  0.833496  129.5277  28.661968   \n",
              "..          ...       ...        ...       ...       ...       ...        ...   \n",
              "695         695  147.4849  39.849040 -0.413560 -0.713162  143.8830  36.109081   \n",
              "696         696  131.6387  22.462007  0.060316 -0.598803  129.3470  20.965238   \n",
              "697         697  124.9098  24.410827 -0.014904  0.298252  130.4604  23.675959   \n",
              "698         698  100.5366  41.107908 -0.385692  0.309762   98.8532  40.835684   \n",
              "699         699  138.0759   6.627016  2.339072  0.414758  137.9345   6.328697   \n",
              "\n",
              "        kur_g    skew_g    mean_b  ...  contrast_r  contrast_g  contrast_b  \\\n",
              "0    1.254689 -0.135613  113.5715  ...    9.181953       177.0       173.0   \n",
              "1    3.035196  0.141160  190.8538  ...    9.207314       142.0       136.0   \n",
              "2    0.057178 -0.521476  147.2760  ...    9.186737       199.0       200.0   \n",
              "3    0.655846  0.729521  113.6179  ...    9.197973       146.0       142.0   \n",
              "4    0.475502  0.804161  131.9745  ...    9.189257       173.0       176.0   \n",
              "..        ...       ...       ...  ...         ...         ...         ...   \n",
              "695 -0.333042 -0.721668  138.3563  ...    9.180812       196.0       180.0   \n",
              "696  0.249974 -0.611380  125.9734  ...    9.199403       169.0       163.0   \n",
              "697 -0.086843  0.180634  135.0006  ...    9.195094       152.0       145.0   \n",
              "698 -0.356037  0.269909   98.9559  ...    9.125664       233.0       231.0   \n",
              "699  2.939153  0.477630  137.8309  ...    9.209413        93.0        91.0   \n",
              "\n",
              "     corr_rg   corr_rb   corr_gb  moment_r     moment_g     moment_b  label  \n",
              "0      162.0  0.951368  0.913876  0.803333   856.585412   726.475939      0  \n",
              "1      129.0  0.988325  0.989474  0.976787   222.539456   221.478572      0  \n",
              "2      194.0  0.968581  0.967398  0.890845  1198.423587  1134.928451      1  \n",
              "3      138.0  0.987383  0.983663  0.961305   403.387224   381.663969      0  \n",
              "4      177.0  0.980727  0.986702  0.950291   855.655808   821.508433      1  \n",
              "..       ...       ...       ...       ...          ...          ...    ...  \n",
              "695    168.0  0.991360  0.988178  0.968726  1587.945972  1303.865711      1  \n",
              "696    157.0  0.992205  0.977108  0.954988   504.541762   439.541191      1  \n",
              "697    143.0  0.981116  0.986397  0.953482   595.888464   560.551032      0  \n",
              "698    227.0  0.996501  0.997454  0.994056  1689.860060  1667.553050      1  \n",
              "699     92.0  0.962479  0.948542  0.926412    43.917339    40.052410      0  \n",
              "\n",
              "[700 rows x 25 columns]"
            ],
            "text/html": [
              "\n",
              "  <div id=\"df-48b555b8-29c0-4ddd-9ae4-a51fa0fa20e1\">\n",
              "    <div class=\"colab-df-container\">\n",
              "      <div>\n",
              "<style scoped>\n",
              "    .dataframe tbody tr th:only-of-type {\n",
              "        vertical-align: middle;\n",
              "    }\n",
              "\n",
              "    .dataframe tbody tr th {\n",
              "        vertical-align: top;\n",
              "    }\n",
              "\n",
              "    .dataframe thead th {\n",
              "        text-align: right;\n",
              "    }\n",
              "</style>\n",
              "<table border=\"1\" class=\"dataframe\">\n",
              "  <thead>\n",
              "    <tr style=\"text-align: right;\">\n",
              "      <th></th>\n",
              "      <th>Unnamed: 0</th>\n",
              "      <th>mean_r</th>\n",
              "      <th>std_r</th>\n",
              "      <th>kur_r</th>\n",
              "      <th>skew_r</th>\n",
              "      <th>mean_g</th>\n",
              "      <th>std_g</th>\n",
              "      <th>kur_g</th>\n",
              "      <th>skew_g</th>\n",
              "      <th>mean_b</th>\n",
              "      <th>...</th>\n",
              "      <th>contrast_r</th>\n",
              "      <th>contrast_g</th>\n",
              "      <th>contrast_b</th>\n",
              "      <th>corr_rg</th>\n",
              "      <th>corr_rb</th>\n",
              "      <th>corr_gb</th>\n",
              "      <th>moment_r</th>\n",
              "      <th>moment_g</th>\n",
              "      <th>moment_b</th>\n",
              "      <th>label</th>\n",
              "    </tr>\n",
              "  </thead>\n",
              "  <tbody>\n",
              "    <tr>\n",
              "      <th>0</th>\n",
              "      <td>0</td>\n",
              "      <td>107.5734</td>\n",
              "      <td>29.267480</td>\n",
              "      <td>0.744029</td>\n",
              "      <td>0.408828</td>\n",
              "      <td>110.2533</td>\n",
              "      <td>26.953218</td>\n",
              "      <td>1.254689</td>\n",
              "      <td>-0.135613</td>\n",
              "      <td>113.5715</td>\n",
              "      <td>...</td>\n",
              "      <td>9.181953</td>\n",
              "      <td>177.0</td>\n",
              "      <td>173.0</td>\n",
              "      <td>162.0</td>\n",
              "      <td>0.951368</td>\n",
              "      <td>0.913876</td>\n",
              "      <td>0.803333</td>\n",
              "      <td>856.585412</td>\n",
              "      <td>726.475939</td>\n",
              "      <td>0</td>\n",
              "    </tr>\n",
              "    <tr>\n",
              "      <th>1</th>\n",
              "      <td>1</td>\n",
              "      <td>178.6713</td>\n",
              "      <td>14.917756</td>\n",
              "      <td>3.192406</td>\n",
              "      <td>0.238175</td>\n",
              "      <td>184.4947</td>\n",
              "      <td>14.882156</td>\n",
              "      <td>3.035196</td>\n",
              "      <td>0.141160</td>\n",
              "      <td>190.8538</td>\n",
              "      <td>...</td>\n",
              "      <td>9.207314</td>\n",
              "      <td>142.0</td>\n",
              "      <td>136.0</td>\n",
              "      <td>129.0</td>\n",
              "      <td>0.988325</td>\n",
              "      <td>0.989474</td>\n",
              "      <td>0.976787</td>\n",
              "      <td>222.539456</td>\n",
              "      <td>221.478572</td>\n",
              "      <td>0</td>\n",
              "    </tr>\n",
              "    <tr>\n",
              "      <th>2</th>\n",
              "      <td>2</td>\n",
              "      <td>176.6517</td>\n",
              "      <td>34.618255</td>\n",
              "      <td>-0.146336</td>\n",
              "      <td>-0.421552</td>\n",
              "      <td>161.3083</td>\n",
              "      <td>33.688699</td>\n",
              "      <td>0.057178</td>\n",
              "      <td>-0.521476</td>\n",
              "      <td>147.2760</td>\n",
              "      <td>...</td>\n",
              "      <td>9.186737</td>\n",
              "      <td>199.0</td>\n",
              "      <td>200.0</td>\n",
              "      <td>194.0</td>\n",
              "      <td>0.968581</td>\n",
              "      <td>0.967398</td>\n",
              "      <td>0.890845</td>\n",
              "      <td>1198.423587</td>\n",
              "      <td>1134.928451</td>\n",
              "      <td>1</td>\n",
              "    </tr>\n",
              "    <tr>\n",
              "      <th>3</th>\n",
              "      <td>3</td>\n",
              "      <td>113.5760</td>\n",
              "      <td>20.084502</td>\n",
              "      <td>0.719752</td>\n",
              "      <td>0.737728</td>\n",
              "      <td>114.0056</td>\n",
              "      <td>19.536222</td>\n",
              "      <td>0.655846</td>\n",
              "      <td>0.729521</td>\n",
              "      <td>113.6179</td>\n",
              "      <td>...</td>\n",
              "      <td>9.197973</td>\n",
              "      <td>146.0</td>\n",
              "      <td>142.0</td>\n",
              "      <td>138.0</td>\n",
              "      <td>0.987383</td>\n",
              "      <td>0.983663</td>\n",
              "      <td>0.961305</td>\n",
              "      <td>403.387224</td>\n",
              "      <td>381.663969</td>\n",
              "      <td>0</td>\n",
              "    </tr>\n",
              "    <tr>\n",
              "      <th>4</th>\n",
              "      <td>4</td>\n",
              "      <td>125.3565</td>\n",
              "      <td>29.251595</td>\n",
              "      <td>0.430344</td>\n",
              "      <td>0.833496</td>\n",
              "      <td>129.5277</td>\n",
              "      <td>28.661968</td>\n",
              "      <td>0.475502</td>\n",
              "      <td>0.804161</td>\n",
              "      <td>131.9745</td>\n",
              "      <td>...</td>\n",
              "      <td>9.189257</td>\n",
              "      <td>173.0</td>\n",
              "      <td>176.0</td>\n",
              "      <td>177.0</td>\n",
              "      <td>0.980727</td>\n",
              "      <td>0.986702</td>\n",
              "      <td>0.950291</td>\n",
              "      <td>855.655808</td>\n",
              "      <td>821.508433</td>\n",
              "      <td>1</td>\n",
              "    </tr>\n",
              "    <tr>\n",
              "      <th>...</th>\n",
              "      <td>...</td>\n",
              "      <td>...</td>\n",
              "      <td>...</td>\n",
              "      <td>...</td>\n",
              "      <td>...</td>\n",
              "      <td>...</td>\n",
              "      <td>...</td>\n",
              "      <td>...</td>\n",
              "      <td>...</td>\n",
              "      <td>...</td>\n",
              "      <td>...</td>\n",
              "      <td>...</td>\n",
              "      <td>...</td>\n",
              "      <td>...</td>\n",
              "      <td>...</td>\n",
              "      <td>...</td>\n",
              "      <td>...</td>\n",
              "      <td>...</td>\n",
              "      <td>...</td>\n",
              "      <td>...</td>\n",
              "      <td>...</td>\n",
              "    </tr>\n",
              "    <tr>\n",
              "      <th>695</th>\n",
              "      <td>695</td>\n",
              "      <td>147.4849</td>\n",
              "      <td>39.849040</td>\n",
              "      <td>-0.413560</td>\n",
              "      <td>-0.713162</td>\n",
              "      <td>143.8830</td>\n",
              "      <td>36.109081</td>\n",
              "      <td>-0.333042</td>\n",
              "      <td>-0.721668</td>\n",
              "      <td>138.3563</td>\n",
              "      <td>...</td>\n",
              "      <td>9.180812</td>\n",
              "      <td>196.0</td>\n",
              "      <td>180.0</td>\n",
              "      <td>168.0</td>\n",
              "      <td>0.991360</td>\n",
              "      <td>0.988178</td>\n",
              "      <td>0.968726</td>\n",
              "      <td>1587.945972</td>\n",
              "      <td>1303.865711</td>\n",
              "      <td>1</td>\n",
              "    </tr>\n",
              "    <tr>\n",
              "      <th>696</th>\n",
              "      <td>696</td>\n",
              "      <td>131.6387</td>\n",
              "      <td>22.462007</td>\n",
              "      <td>0.060316</td>\n",
              "      <td>-0.598803</td>\n",
              "      <td>129.3470</td>\n",
              "      <td>20.965238</td>\n",
              "      <td>0.249974</td>\n",
              "      <td>-0.611380</td>\n",
              "      <td>125.9734</td>\n",
              "      <td>...</td>\n",
              "      <td>9.199403</td>\n",
              "      <td>169.0</td>\n",
              "      <td>163.0</td>\n",
              "      <td>157.0</td>\n",
              "      <td>0.992205</td>\n",
              "      <td>0.977108</td>\n",
              "      <td>0.954988</td>\n",
              "      <td>504.541762</td>\n",
              "      <td>439.541191</td>\n",
              "      <td>1</td>\n",
              "    </tr>\n",
              "    <tr>\n",
              "      <th>697</th>\n",
              "      <td>697</td>\n",
              "      <td>124.9098</td>\n",
              "      <td>24.410827</td>\n",
              "      <td>-0.014904</td>\n",
              "      <td>0.298252</td>\n",
              "      <td>130.4604</td>\n",
              "      <td>23.675959</td>\n",
              "      <td>-0.086843</td>\n",
              "      <td>0.180634</td>\n",
              "      <td>135.0006</td>\n",
              "      <td>...</td>\n",
              "      <td>9.195094</td>\n",
              "      <td>152.0</td>\n",
              "      <td>145.0</td>\n",
              "      <td>143.0</td>\n",
              "      <td>0.981116</td>\n",
              "      <td>0.986397</td>\n",
              "      <td>0.953482</td>\n",
              "      <td>595.888464</td>\n",
              "      <td>560.551032</td>\n",
              "      <td>0</td>\n",
              "    </tr>\n",
              "    <tr>\n",
              "      <th>698</th>\n",
              "      <td>698</td>\n",
              "      <td>100.5366</td>\n",
              "      <td>41.107908</td>\n",
              "      <td>-0.385692</td>\n",
              "      <td>0.309762</td>\n",
              "      <td>98.8532</td>\n",
              "      <td>40.835684</td>\n",
              "      <td>-0.356037</td>\n",
              "      <td>0.269909</td>\n",
              "      <td>98.9559</td>\n",
              "      <td>...</td>\n",
              "      <td>9.125664</td>\n",
              "      <td>233.0</td>\n",
              "      <td>231.0</td>\n",
              "      <td>227.0</td>\n",
              "      <td>0.996501</td>\n",
              "      <td>0.997454</td>\n",
              "      <td>0.994056</td>\n",
              "      <td>1689.860060</td>\n",
              "      <td>1667.553050</td>\n",
              "      <td>1</td>\n",
              "    </tr>\n",
              "    <tr>\n",
              "      <th>699</th>\n",
              "      <td>699</td>\n",
              "      <td>138.0759</td>\n",
              "      <td>6.627016</td>\n",
              "      <td>2.339072</td>\n",
              "      <td>0.414758</td>\n",
              "      <td>137.9345</td>\n",
              "      <td>6.328697</td>\n",
              "      <td>2.939153</td>\n",
              "      <td>0.477630</td>\n",
              "      <td>137.8309</td>\n",
              "      <td>...</td>\n",
              "      <td>9.209413</td>\n",
              "      <td>93.0</td>\n",
              "      <td>91.0</td>\n",
              "      <td>92.0</td>\n",
              "      <td>0.962479</td>\n",
              "      <td>0.948542</td>\n",
              "      <td>0.926412</td>\n",
              "      <td>43.917339</td>\n",
              "      <td>40.052410</td>\n",
              "      <td>0</td>\n",
              "    </tr>\n",
              "  </tbody>\n",
              "</table>\n",
              "<p>700 rows × 25 columns</p>\n",
              "</div>\n",
              "      <button class=\"colab-df-convert\" onclick=\"convertToInteractive('df-48b555b8-29c0-4ddd-9ae4-a51fa0fa20e1')\"\n",
              "              title=\"Convert this dataframe to an interactive table.\"\n",
              "              style=\"display:none;\">\n",
              "        \n",
              "  <svg xmlns=\"http://www.w3.org/2000/svg\" height=\"24px\"viewBox=\"0 0 24 24\"\n",
              "       width=\"24px\">\n",
              "    <path d=\"M0 0h24v24H0V0z\" fill=\"none\"/>\n",
              "    <path d=\"M18.56 5.44l.94 2.06.94-2.06 2.06-.94-2.06-.94-.94-2.06-.94 2.06-2.06.94zm-11 1L8.5 8.5l.94-2.06 2.06-.94-2.06-.94L8.5 2.5l-.94 2.06-2.06.94zm10 10l.94 2.06.94-2.06 2.06-.94-2.06-.94-.94-2.06-.94 2.06-2.06.94z\"/><path d=\"M17.41 7.96l-1.37-1.37c-.4-.4-.92-.59-1.43-.59-.52 0-1.04.2-1.43.59L10.3 9.45l-7.72 7.72c-.78.78-.78 2.05 0 2.83L4 21.41c.39.39.9.59 1.41.59.51 0 1.02-.2 1.41-.59l7.78-7.78 2.81-2.81c.8-.78.8-2.07 0-2.86zM5.41 20L4 18.59l7.72-7.72 1.47 1.35L5.41 20z\"/>\n",
              "  </svg>\n",
              "      </button>\n",
              "      \n",
              "  <style>\n",
              "    .colab-df-container {\n",
              "      display:flex;\n",
              "      flex-wrap:wrap;\n",
              "      gap: 12px;\n",
              "    }\n",
              "\n",
              "    .colab-df-convert {\n",
              "      background-color: #E8F0FE;\n",
              "      border: none;\n",
              "      border-radius: 50%;\n",
              "      cursor: pointer;\n",
              "      display: none;\n",
              "      fill: #1967D2;\n",
              "      height: 32px;\n",
              "      padding: 0 0 0 0;\n",
              "      width: 32px;\n",
              "    }\n",
              "\n",
              "    .colab-df-convert:hover {\n",
              "      background-color: #E2EBFA;\n",
              "      box-shadow: 0px 1px 2px rgba(60, 64, 67, 0.3), 0px 1px 3px 1px rgba(60, 64, 67, 0.15);\n",
              "      fill: #174EA6;\n",
              "    }\n",
              "\n",
              "    [theme=dark] .colab-df-convert {\n",
              "      background-color: #3B4455;\n",
              "      fill: #D2E3FC;\n",
              "    }\n",
              "\n",
              "    [theme=dark] .colab-df-convert:hover {\n",
              "      background-color: #434B5C;\n",
              "      box-shadow: 0px 1px 3px 1px rgba(0, 0, 0, 0.15);\n",
              "      filter: drop-shadow(0px 1px 2px rgba(0, 0, 0, 0.3));\n",
              "      fill: #FFFFFF;\n",
              "    }\n",
              "  </style>\n",
              "\n",
              "      <script>\n",
              "        const buttonEl =\n",
              "          document.querySelector('#df-48b555b8-29c0-4ddd-9ae4-a51fa0fa20e1 button.colab-df-convert');\n",
              "        buttonEl.style.display =\n",
              "          google.colab.kernel.accessAllowed ? 'block' : 'none';\n",
              "\n",
              "        async function convertToInteractive(key) {\n",
              "          const element = document.querySelector('#df-48b555b8-29c0-4ddd-9ae4-a51fa0fa20e1');\n",
              "          const dataTable =\n",
              "            await google.colab.kernel.invokeFunction('convertToInteractive',\n",
              "                                                     [key], {});\n",
              "          if (!dataTable) return;\n",
              "\n",
              "          const docLinkHtml = 'Like what you see? Visit the ' +\n",
              "            '<a target=\"_blank\" href=https://colab.research.google.com/notebooks/data_table.ipynb>data table notebook</a>'\n",
              "            + ' to learn more about interactive tables.';\n",
              "          element.innerHTML = '';\n",
              "          dataTable['output_type'] = 'display_data';\n",
              "          await google.colab.output.renderOutput(dataTable, element);\n",
              "          const docLink = document.createElement('div');\n",
              "          docLink.innerHTML = docLinkHtml;\n",
              "          element.appendChild(docLink);\n",
              "        }\n",
              "      </script>\n",
              "    </div>\n",
              "  </div>\n",
              "  "
            ]
          },
          "metadata": {},
          "execution_count": 115
        }
      ]
    },
    {
      "cell_type": "code",
      "source": [
        "file_1.describe()"
      ],
      "metadata": {
        "colab": {
          "base_uri": "https://localhost:8080/",
          "height": 411
        },
        "id": "7Yuz0af60O7f",
        "outputId": "578fd611-29fa-40e5-e4f6-f56287d425ae"
      },
      "execution_count": 116,
      "outputs": [
        {
          "output_type": "execute_result",
          "data": {
            "text/plain": [
              "       Unnamed: 0      mean_r       std_r       kur_r      skew_r      mean_g  \\\n",
              "count   700.00000  700.000000  700.000000  700.000000  700.000000  700.000000   \n",
              "mean    349.50000  129.904131   29.725915    0.783304    0.210021  129.513118   \n",
              "std     202.21688   22.533741    9.721830    2.921148    0.832188   20.781828   \n",
              "min       0.00000   72.085700    5.257114   -1.616288   -3.788320   78.022200   \n",
              "25%     174.75000  117.223100   21.865794   -0.520055   -0.251850  118.032050   \n",
              "50%     349.50000  127.525400   31.030772   -0.071472    0.211199  127.457500   \n",
              "75%     524.25000  140.418825   37.210949    1.042058    0.593044  138.861175   \n",
              "max     699.00000  207.160800   52.226058   44.499978    5.645803  198.134400   \n",
              "\n",
              "            std_g       kur_g      skew_g      mean_b  ...  contrast_r  \\\n",
              "count  700.000000  700.000000  700.000000  700.000000  ...  700.000000   \n",
              "mean    28.191406    0.905234    0.210064  128.842019  ...    9.185198   \n",
              "std      9.279358    3.000051    0.848674   19.436542  ...    0.018515   \n",
              "min      4.543611   -1.567842   -3.761659   82.738400  ...    9.085941   \n",
              "25%     20.951718   -0.460405   -0.247178  118.039500  ...    9.177954   \n",
              "50%     29.333898   -0.011488    0.202783  126.579200  ...    9.188351   \n",
              "75%     34.737146    1.177957    0.613642  136.463700  ...    9.199160   \n",
              "max     51.168733   44.984072    5.623845  196.270800  ...    9.209413   \n",
              "\n",
              "       contrast_g  contrast_b     corr_rg     corr_rb     corr_gb    moment_r  \\\n",
              "count  700.000000  700.000000  700.000000  700.000000  700.000000  700.000000   \n",
              "mean   178.245714  173.781429  170.375714    0.984945    0.982444    0.958198   \n",
              "std     33.888983   34.655417   35.610478    0.024409    0.027450    0.069144   \n",
              "min     55.000000   48.000000   52.000000    0.731441    0.740211    0.279195   \n",
              "25%    152.750000  150.000000  146.000000    0.984907    0.982613    0.957100   \n",
              "50%    184.500000  179.000000  175.000000    0.991413    0.989603    0.974893   \n",
              "75%    202.000000  197.000000  193.250000    0.994256    0.993197    0.983471   \n",
              "max    255.000000  254.000000  255.000000    0.998194    0.998387    0.997126   \n",
              "\n",
              "          moment_g     moment_b       label  \n",
              "count   700.000000   700.000000  700.000000  \n",
              "mean    978.008986   880.738813    0.498571  \n",
              "std     565.834008   520.580605    0.500355  \n",
              "min      27.637244    20.644398    0.000000  \n",
              "25%     478.115830   438.975044    0.000000  \n",
              "50%     962.908945   860.477925    0.000000  \n",
              "75%    1384.654910  1206.669310    1.000000  \n",
              "max    2727.561173  2618.239239    1.000000  \n",
              "\n",
              "[8 rows x 25 columns]"
            ],
            "text/html": [
              "\n",
              "  <div id=\"df-07ffa49a-57ed-4740-9c12-8d91f9e2dbae\">\n",
              "    <div class=\"colab-df-container\">\n",
              "      <div>\n",
              "<style scoped>\n",
              "    .dataframe tbody tr th:only-of-type {\n",
              "        vertical-align: middle;\n",
              "    }\n",
              "\n",
              "    .dataframe tbody tr th {\n",
              "        vertical-align: top;\n",
              "    }\n",
              "\n",
              "    .dataframe thead th {\n",
              "        text-align: right;\n",
              "    }\n",
              "</style>\n",
              "<table border=\"1\" class=\"dataframe\">\n",
              "  <thead>\n",
              "    <tr style=\"text-align: right;\">\n",
              "      <th></th>\n",
              "      <th>Unnamed: 0</th>\n",
              "      <th>mean_r</th>\n",
              "      <th>std_r</th>\n",
              "      <th>kur_r</th>\n",
              "      <th>skew_r</th>\n",
              "      <th>mean_g</th>\n",
              "      <th>std_g</th>\n",
              "      <th>kur_g</th>\n",
              "      <th>skew_g</th>\n",
              "      <th>mean_b</th>\n",
              "      <th>...</th>\n",
              "      <th>contrast_r</th>\n",
              "      <th>contrast_g</th>\n",
              "      <th>contrast_b</th>\n",
              "      <th>corr_rg</th>\n",
              "      <th>corr_rb</th>\n",
              "      <th>corr_gb</th>\n",
              "      <th>moment_r</th>\n",
              "      <th>moment_g</th>\n",
              "      <th>moment_b</th>\n",
              "      <th>label</th>\n",
              "    </tr>\n",
              "  </thead>\n",
              "  <tbody>\n",
              "    <tr>\n",
              "      <th>count</th>\n",
              "      <td>700.00000</td>\n",
              "      <td>700.000000</td>\n",
              "      <td>700.000000</td>\n",
              "      <td>700.000000</td>\n",
              "      <td>700.000000</td>\n",
              "      <td>700.000000</td>\n",
              "      <td>700.000000</td>\n",
              "      <td>700.000000</td>\n",
              "      <td>700.000000</td>\n",
              "      <td>700.000000</td>\n",
              "      <td>...</td>\n",
              "      <td>700.000000</td>\n",
              "      <td>700.000000</td>\n",
              "      <td>700.000000</td>\n",
              "      <td>700.000000</td>\n",
              "      <td>700.000000</td>\n",
              "      <td>700.000000</td>\n",
              "      <td>700.000000</td>\n",
              "      <td>700.000000</td>\n",
              "      <td>700.000000</td>\n",
              "      <td>700.000000</td>\n",
              "    </tr>\n",
              "    <tr>\n",
              "      <th>mean</th>\n",
              "      <td>349.50000</td>\n",
              "      <td>129.904131</td>\n",
              "      <td>29.725915</td>\n",
              "      <td>0.783304</td>\n",
              "      <td>0.210021</td>\n",
              "      <td>129.513118</td>\n",
              "      <td>28.191406</td>\n",
              "      <td>0.905234</td>\n",
              "      <td>0.210064</td>\n",
              "      <td>128.842019</td>\n",
              "      <td>...</td>\n",
              "      <td>9.185198</td>\n",
              "      <td>178.245714</td>\n",
              "      <td>173.781429</td>\n",
              "      <td>170.375714</td>\n",
              "      <td>0.984945</td>\n",
              "      <td>0.982444</td>\n",
              "      <td>0.958198</td>\n",
              "      <td>978.008986</td>\n",
              "      <td>880.738813</td>\n",
              "      <td>0.498571</td>\n",
              "    </tr>\n",
              "    <tr>\n",
              "      <th>std</th>\n",
              "      <td>202.21688</td>\n",
              "      <td>22.533741</td>\n",
              "      <td>9.721830</td>\n",
              "      <td>2.921148</td>\n",
              "      <td>0.832188</td>\n",
              "      <td>20.781828</td>\n",
              "      <td>9.279358</td>\n",
              "      <td>3.000051</td>\n",
              "      <td>0.848674</td>\n",
              "      <td>19.436542</td>\n",
              "      <td>...</td>\n",
              "      <td>0.018515</td>\n",
              "      <td>33.888983</td>\n",
              "      <td>34.655417</td>\n",
              "      <td>35.610478</td>\n",
              "      <td>0.024409</td>\n",
              "      <td>0.027450</td>\n",
              "      <td>0.069144</td>\n",
              "      <td>565.834008</td>\n",
              "      <td>520.580605</td>\n",
              "      <td>0.500355</td>\n",
              "    </tr>\n",
              "    <tr>\n",
              "      <th>min</th>\n",
              "      <td>0.00000</td>\n",
              "      <td>72.085700</td>\n",
              "      <td>5.257114</td>\n",
              "      <td>-1.616288</td>\n",
              "      <td>-3.788320</td>\n",
              "      <td>78.022200</td>\n",
              "      <td>4.543611</td>\n",
              "      <td>-1.567842</td>\n",
              "      <td>-3.761659</td>\n",
              "      <td>82.738400</td>\n",
              "      <td>...</td>\n",
              "      <td>9.085941</td>\n",
              "      <td>55.000000</td>\n",
              "      <td>48.000000</td>\n",
              "      <td>52.000000</td>\n",
              "      <td>0.731441</td>\n",
              "      <td>0.740211</td>\n",
              "      <td>0.279195</td>\n",
              "      <td>27.637244</td>\n",
              "      <td>20.644398</td>\n",
              "      <td>0.000000</td>\n",
              "    </tr>\n",
              "    <tr>\n",
              "      <th>25%</th>\n",
              "      <td>174.75000</td>\n",
              "      <td>117.223100</td>\n",
              "      <td>21.865794</td>\n",
              "      <td>-0.520055</td>\n",
              "      <td>-0.251850</td>\n",
              "      <td>118.032050</td>\n",
              "      <td>20.951718</td>\n",
              "      <td>-0.460405</td>\n",
              "      <td>-0.247178</td>\n",
              "      <td>118.039500</td>\n",
              "      <td>...</td>\n",
              "      <td>9.177954</td>\n",
              "      <td>152.750000</td>\n",
              "      <td>150.000000</td>\n",
              "      <td>146.000000</td>\n",
              "      <td>0.984907</td>\n",
              "      <td>0.982613</td>\n",
              "      <td>0.957100</td>\n",
              "      <td>478.115830</td>\n",
              "      <td>438.975044</td>\n",
              "      <td>0.000000</td>\n",
              "    </tr>\n",
              "    <tr>\n",
              "      <th>50%</th>\n",
              "      <td>349.50000</td>\n",
              "      <td>127.525400</td>\n",
              "      <td>31.030772</td>\n",
              "      <td>-0.071472</td>\n",
              "      <td>0.211199</td>\n",
              "      <td>127.457500</td>\n",
              "      <td>29.333898</td>\n",
              "      <td>-0.011488</td>\n",
              "      <td>0.202783</td>\n",
              "      <td>126.579200</td>\n",
              "      <td>...</td>\n",
              "      <td>9.188351</td>\n",
              "      <td>184.500000</td>\n",
              "      <td>179.000000</td>\n",
              "      <td>175.000000</td>\n",
              "      <td>0.991413</td>\n",
              "      <td>0.989603</td>\n",
              "      <td>0.974893</td>\n",
              "      <td>962.908945</td>\n",
              "      <td>860.477925</td>\n",
              "      <td>0.000000</td>\n",
              "    </tr>\n",
              "    <tr>\n",
              "      <th>75%</th>\n",
              "      <td>524.25000</td>\n",
              "      <td>140.418825</td>\n",
              "      <td>37.210949</td>\n",
              "      <td>1.042058</td>\n",
              "      <td>0.593044</td>\n",
              "      <td>138.861175</td>\n",
              "      <td>34.737146</td>\n",
              "      <td>1.177957</td>\n",
              "      <td>0.613642</td>\n",
              "      <td>136.463700</td>\n",
              "      <td>...</td>\n",
              "      <td>9.199160</td>\n",
              "      <td>202.000000</td>\n",
              "      <td>197.000000</td>\n",
              "      <td>193.250000</td>\n",
              "      <td>0.994256</td>\n",
              "      <td>0.993197</td>\n",
              "      <td>0.983471</td>\n",
              "      <td>1384.654910</td>\n",
              "      <td>1206.669310</td>\n",
              "      <td>1.000000</td>\n",
              "    </tr>\n",
              "    <tr>\n",
              "      <th>max</th>\n",
              "      <td>699.00000</td>\n",
              "      <td>207.160800</td>\n",
              "      <td>52.226058</td>\n",
              "      <td>44.499978</td>\n",
              "      <td>5.645803</td>\n",
              "      <td>198.134400</td>\n",
              "      <td>51.168733</td>\n",
              "      <td>44.984072</td>\n",
              "      <td>5.623845</td>\n",
              "      <td>196.270800</td>\n",
              "      <td>...</td>\n",
              "      <td>9.209413</td>\n",
              "      <td>255.000000</td>\n",
              "      <td>254.000000</td>\n",
              "      <td>255.000000</td>\n",
              "      <td>0.998194</td>\n",
              "      <td>0.998387</td>\n",
              "      <td>0.997126</td>\n",
              "      <td>2727.561173</td>\n",
              "      <td>2618.239239</td>\n",
              "      <td>1.000000</td>\n",
              "    </tr>\n",
              "  </tbody>\n",
              "</table>\n",
              "<p>8 rows × 25 columns</p>\n",
              "</div>\n",
              "      <button class=\"colab-df-convert\" onclick=\"convertToInteractive('df-07ffa49a-57ed-4740-9c12-8d91f9e2dbae')\"\n",
              "              title=\"Convert this dataframe to an interactive table.\"\n",
              "              style=\"display:none;\">\n",
              "        \n",
              "  <svg xmlns=\"http://www.w3.org/2000/svg\" height=\"24px\"viewBox=\"0 0 24 24\"\n",
              "       width=\"24px\">\n",
              "    <path d=\"M0 0h24v24H0V0z\" fill=\"none\"/>\n",
              "    <path d=\"M18.56 5.44l.94 2.06.94-2.06 2.06-.94-2.06-.94-.94-2.06-.94 2.06-2.06.94zm-11 1L8.5 8.5l.94-2.06 2.06-.94-2.06-.94L8.5 2.5l-.94 2.06-2.06.94zm10 10l.94 2.06.94-2.06 2.06-.94-2.06-.94-.94-2.06-.94 2.06-2.06.94z\"/><path d=\"M17.41 7.96l-1.37-1.37c-.4-.4-.92-.59-1.43-.59-.52 0-1.04.2-1.43.59L10.3 9.45l-7.72 7.72c-.78.78-.78 2.05 0 2.83L4 21.41c.39.39.9.59 1.41.59.51 0 1.02-.2 1.41-.59l7.78-7.78 2.81-2.81c.8-.78.8-2.07 0-2.86zM5.41 20L4 18.59l7.72-7.72 1.47 1.35L5.41 20z\"/>\n",
              "  </svg>\n",
              "      </button>\n",
              "      \n",
              "  <style>\n",
              "    .colab-df-container {\n",
              "      display:flex;\n",
              "      flex-wrap:wrap;\n",
              "      gap: 12px;\n",
              "    }\n",
              "\n",
              "    .colab-df-convert {\n",
              "      background-color: #E8F0FE;\n",
              "      border: none;\n",
              "      border-radius: 50%;\n",
              "      cursor: pointer;\n",
              "      display: none;\n",
              "      fill: #1967D2;\n",
              "      height: 32px;\n",
              "      padding: 0 0 0 0;\n",
              "      width: 32px;\n",
              "    }\n",
              "\n",
              "    .colab-df-convert:hover {\n",
              "      background-color: #E2EBFA;\n",
              "      box-shadow: 0px 1px 2px rgba(60, 64, 67, 0.3), 0px 1px 3px 1px rgba(60, 64, 67, 0.15);\n",
              "      fill: #174EA6;\n",
              "    }\n",
              "\n",
              "    [theme=dark] .colab-df-convert {\n",
              "      background-color: #3B4455;\n",
              "      fill: #D2E3FC;\n",
              "    }\n",
              "\n",
              "    [theme=dark] .colab-df-convert:hover {\n",
              "      background-color: #434B5C;\n",
              "      box-shadow: 0px 1px 3px 1px rgba(0, 0, 0, 0.15);\n",
              "      filter: drop-shadow(0px 1px 2px rgba(0, 0, 0, 0.3));\n",
              "      fill: #FFFFFF;\n",
              "    }\n",
              "  </style>\n",
              "\n",
              "      <script>\n",
              "        const buttonEl =\n",
              "          document.querySelector('#df-07ffa49a-57ed-4740-9c12-8d91f9e2dbae button.colab-df-convert');\n",
              "        buttonEl.style.display =\n",
              "          google.colab.kernel.accessAllowed ? 'block' : 'none';\n",
              "\n",
              "        async function convertToInteractive(key) {\n",
              "          const element = document.querySelector('#df-07ffa49a-57ed-4740-9c12-8d91f9e2dbae');\n",
              "          const dataTable =\n",
              "            await google.colab.kernel.invokeFunction('convertToInteractive',\n",
              "                                                     [key], {});\n",
              "          if (!dataTable) return;\n",
              "\n",
              "          const docLinkHtml = 'Like what you see? Visit the ' +\n",
              "            '<a target=\"_blank\" href=https://colab.research.google.com/notebooks/data_table.ipynb>data table notebook</a>'\n",
              "            + ' to learn more about interactive tables.';\n",
              "          element.innerHTML = '';\n",
              "          dataTable['output_type'] = 'display_data';\n",
              "          await google.colab.output.renderOutput(dataTable, element);\n",
              "          const docLink = document.createElement('div');\n",
              "          docLink.innerHTML = docLinkHtml;\n",
              "          element.appendChild(docLink);\n",
              "        }\n",
              "      </script>\n",
              "    </div>\n",
              "  </div>\n",
              "  "
            ]
          },
          "metadata": {},
          "execution_count": 116
        }
      ]
    },
    {
      "cell_type": "code",
      "source": [
        "file_1.isnull().sum()"
      ],
      "metadata": {
        "colab": {
          "base_uri": "https://localhost:8080/"
        },
        "id": "3zBUAZHk0X1v",
        "outputId": "3bc48a7e-c154-4c9d-8f37-68956de8357e"
      },
      "execution_count": 117,
      "outputs": [
        {
          "output_type": "execute_result",
          "data": {
            "text/plain": [
              "Unnamed: 0    0\n",
              "mean_r        0\n",
              "std_r         0\n",
              "kur_r         0\n",
              "skew_r        0\n",
              "mean_g        0\n",
              "std_g         0\n",
              "kur_g         0\n",
              "skew_g        0\n",
              "mean_b        0\n",
              "std_b         0\n",
              "kur_b         0\n",
              "skew_b        0\n",
              "entropy_r     0\n",
              "entropy_g     0\n",
              "contrast_r    0\n",
              "contrast_g    0\n",
              "contrast_b    0\n",
              "corr_rg       0\n",
              "corr_rb       0\n",
              "corr_gb       0\n",
              "moment_r      0\n",
              "moment_g      0\n",
              "moment_b      0\n",
              "label         0\n",
              "dtype: int64"
            ]
          },
          "metadata": {},
          "execution_count": 117
        }
      ]
    },
    {
      "cell_type": "code",
      "source": [
        "file_1.info()"
      ],
      "metadata": {
        "colab": {
          "base_uri": "https://localhost:8080/"
        },
        "id": "6f9ZTiV40kub",
        "outputId": "7500639e-de7c-4e55-fb03-c1fe23840e91"
      },
      "execution_count": 118,
      "outputs": [
        {
          "output_type": "stream",
          "name": "stdout",
          "text": [
            "<class 'pandas.core.frame.DataFrame'>\n",
            "RangeIndex: 700 entries, 0 to 699\n",
            "Data columns (total 25 columns):\n",
            " #   Column      Non-Null Count  Dtype  \n",
            "---  ------      --------------  -----  \n",
            " 0   Unnamed: 0  700 non-null    int64  \n",
            " 1   mean_r      700 non-null    float64\n",
            " 2   std_r       700 non-null    float64\n",
            " 3   kur_r       700 non-null    float64\n",
            " 4   skew_r      700 non-null    float64\n",
            " 5   mean_g      700 non-null    float64\n",
            " 6   std_g       700 non-null    float64\n",
            " 7   kur_g       700 non-null    float64\n",
            " 8   skew_g      700 non-null    float64\n",
            " 9   mean_b      700 non-null    float64\n",
            " 10  std_b       700 non-null    float64\n",
            " 11  kur_b       700 non-null    float64\n",
            " 12  skew_b      700 non-null    float64\n",
            " 13  entropy_r   700 non-null    float64\n",
            " 14  entropy_g   700 non-null    float64\n",
            " 15  contrast_r  700 non-null    float64\n",
            " 16  contrast_g  700 non-null    float64\n",
            " 17  contrast_b  700 non-null    float64\n",
            " 18  corr_rg     700 non-null    float64\n",
            " 19  corr_rb     700 non-null    float64\n",
            " 20  corr_gb     700 non-null    float64\n",
            " 21  moment_r    700 non-null    float64\n",
            " 22  moment_g    700 non-null    float64\n",
            " 23  moment_b    700 non-null    float64\n",
            " 24  label       700 non-null    int64  \n",
            "dtypes: float64(23), int64(2)\n",
            "memory usage: 136.8 KB\n"
          ]
        }
      ]
    },
    {
      "cell_type": "markdown",
      "source": [
        "Splitting dataset in this order: 60% train, 20% validation, and 20 % test"
      ],
      "metadata": {
        "id": "HMOq9obO8f1f"
      }
    },
    {
      "cell_type": "code",
      "source": [
        "file_1['label'].value_counts()"
      ],
      "metadata": {
        "colab": {
          "base_uri": "https://localhost:8080/"
        },
        "id": "PYe546IkHVgH",
        "outputId": "56d6f024-9908-4de5-d52c-83412bcee514"
      },
      "execution_count": 119,
      "outputs": [
        {
          "output_type": "execute_result",
          "data": {
            "text/plain": [
              "0    351\n",
              "1    349\n",
              "Name: label, dtype: int64"
            ]
          },
          "metadata": {},
          "execution_count": 119
        }
      ]
    },
    {
      "cell_type": "code",
      "source": [
        "X = file_1.iloc[:,:-1].values\n",
        "Y = file_1.iloc[:,-1:].values"
      ],
      "metadata": {
        "id": "99wM1XfFHfFh"
      },
      "execution_count": 156,
      "outputs": []
    },
    {
      "cell_type": "code",
      "source": [
        "print([X.shape,Y.shape])"
      ],
      "metadata": {
        "colab": {
          "base_uri": "https://localhost:8080/"
        },
        "id": "gPfZXB9ZH3Ue",
        "outputId": "4b5b9e72-bc45-41c8-bcea-ebf847e98e0b"
      },
      "execution_count": 157,
      "outputs": [
        {
          "output_type": "stream",
          "name": "stdout",
          "text": [
            "[(700, 24), (700, 1)]\n"
          ]
        }
      ]
    },
    {
      "cell_type": "code",
      "source": [
        "def normalize(X):\n",
        "  return (X - np.mean(X,axis = 0))/np.std(X,axis = 0)"
      ],
      "metadata": {
        "id": "PiLCEAErH80z"
      },
      "execution_count": 158,
      "outputs": []
    },
    {
      "cell_type": "code",
      "source": [
        "X = normalize(X)"
      ],
      "metadata": {
        "id": "40QKFHhNIRPa"
      },
      "execution_count": 159,
      "outputs": []
    },
    {
      "cell_type": "code",
      "source": [
        "X_train, X_test, y_train, y_test = train_test_split(X,Y,test_size=0.2, random_state = 42)"
      ],
      "metadata": {
        "id": "6XYSn5zE7Aoz"
      },
      "execution_count": 160,
      "outputs": []
    },
    {
      "cell_type": "code",
      "source": [
        "X_train.shape"
      ],
      "metadata": {
        "colab": {
          "base_uri": "https://localhost:8080/"
        },
        "id": "RmozHIkFaW9G",
        "outputId": "4bb21046-a212-4e9a-946b-98feb2783cf8"
      },
      "execution_count": 161,
      "outputs": [
        {
          "output_type": "execute_result",
          "data": {
            "text/plain": [
              "(560, 24)"
            ]
          },
          "metadata": {},
          "execution_count": 161
        }
      ]
    },
    {
      "cell_type": "markdown",
      "source": [
        ""
      ],
      "metadata": {
        "id": "9ErstdgjIlvM"
      }
    },
    {
      "cell_type": "code",
      "source": [
        "y_train.shape"
      ],
      "metadata": {
        "colab": {
          "base_uri": "https://localhost:8080/"
        },
        "id": "ftDnSfV9ahsY",
        "outputId": "e2aad210-eb88-410f-912d-ba1ebd722c33"
      },
      "execution_count": 162,
      "outputs": [
        {
          "output_type": "execute_result",
          "data": {
            "text/plain": [
              "(560, 1)"
            ]
          },
          "metadata": {},
          "execution_count": 162
        }
      ]
    },
    {
      "cell_type": "code",
      "source": [
        "def sigmoid(x):\n",
        "  return 1.0/(1+np.exp(-x))"
      ],
      "metadata": {
        "id": "ANtuc5e6arY4"
      },
      "execution_count": 163,
      "outputs": []
    },
    {
      "cell_type": "code",
      "source": [
        "def forward(X,W,b):\n",
        "  y = sigmoid(np.dot(X,W)+b)\n",
        "  return y"
      ],
      "metadata": {
        "id": "hTHpZh_ka3KA"
      },
      "execution_count": 164,
      "outputs": []
    },
    {
      "cell_type": "code",
      "source": [
        "def predict(X,W,b):\n",
        "  predicted = (np.dot(X,W)+b)\n",
        "  y = np.where(predicted>0.5,1,0)\n",
        "  return y"
      ],
      "metadata": {
        "id": "EfTeEh7Lbzpf"
      },
      "execution_count": 165,
      "outputs": []
    },
    {
      "cell_type": "code",
      "source": [
        "def costFunct(y,y_hat):\n",
        "  l = -np.mean(np.log(y_hat)*y + np.log(1-y_hat)*(1-y))\n",
        "  return l"
      ],
      "metadata": {
        "id": "kqgLvaiQcGwA"
      },
      "execution_count": 166,
      "outputs": []
    },
    {
      "cell_type": "code",
      "source": [
        "def gradient(X,Y,W,b):\n",
        "  m = X.shape[0]\n",
        "  y_hat = np.expand_dims(forward(X,W,b),axis=1)\n",
        "  dw = ((1/m)*np.dot(X.T,(y_hat - Y))).squeeze()\n",
        "  db = (1/m)*(np.sum((y_hat - Y)))\n",
        "  return dw,db"
      ],
      "metadata": {
        "id": "MCJdSRgschfV"
      },
      "execution_count": 167,
      "outputs": []
    },
    {
      "cell_type": "code",
      "source": [
        "def BinarylogRegClassifier(X,Y,num_iter,learning_rate=0.001):\n",
        "  m,n = X.shape\n",
        "  W = np.random.random((n))\n",
        "  b = np.random.random(1)\n",
        "  losses = []\n",
        "\n",
        "  for i in range(num_iter):\n",
        "    Y_hat = forward(X,W,b)\n",
        "    losses.append([i,costFunct(Y,Y_hat)])\n",
        "    dw,db = gradient(X,Y,W,b)\n",
        "    W -= learning_rate*dw\n",
        "    b -= learning_rate*db\n",
        "\n",
        "    return losses,W,b\n",
        "    "
      ],
      "metadata": {
        "id": "xCYKuuc9dSoc"
      },
      "execution_count": 168,
      "outputs": []
    },
    {
      "cell_type": "code",
      "source": [
        "losses,W,b = BinarylogRegClassifier(X_train,y_train,100)"
      ],
      "metadata": {
        "id": "DZTcPycbs66E"
      },
      "execution_count": 169,
      "outputs": []
    },
    {
      "cell_type": "code",
      "source": [
        "losses = np.asarray(losses)"
      ],
      "metadata": {
        "id": "RvwC6KJSJsRw"
      },
      "execution_count": 170,
      "outputs": []
    },
    {
      "cell_type": "code",
      "source": [
        "losses.shape"
      ],
      "metadata": {
        "colab": {
          "base_uri": "https://localhost:8080/"
        },
        "id": "DrWdfKsXJyFn",
        "outputId": "f03c0f3a-1bd6-48f5-9fe0-374b43c393a5"
      },
      "execution_count": 171,
      "outputs": [
        {
          "output_type": "execute_result",
          "data": {
            "text/plain": [
              "(1, 2)"
            ]
          },
          "metadata": {},
          "execution_count": 171
        }
      ]
    },
    {
      "cell_type": "code",
      "source": [
        "epochs = losses[:,0]\n",
        "loss = losses[:,1]"
      ],
      "metadata": {
        "id": "e4d0KenWJ9yR"
      },
      "execution_count": 172,
      "outputs": []
    },
    {
      "cell_type": "code",
      "source": [
        "plt.plot(epochs,loss)\n",
        "plt.xlabel('Epochs')\n",
        "plt.ylabel('Loss')\n",
        "plt.title(\"Epochs vs Loss\")\n",
        "plt.show()"
      ],
      "metadata": {
        "colab": {
          "base_uri": "https://localhost:8080/",
          "height": 295
        },
        "id": "2HSR6dS9KHlZ",
        "outputId": "59391f09-4e98-4249-cbfa-22b909cfbae2"
      },
      "execution_count": 173,
      "outputs": [
        {
          "output_type": "display_data",
          "data": {
            "text/plain": [
              "<Figure size 432x288 with 1 Axes>"
            ],
            "image/png": "[encoded data removed]"
          },
          "metadata": {
            "needs_background": "light"
          }
        }
      ]
    },
    {
      "cell_type": "code",
      "source": [
        "\n",
        "logisticRegressor = LogisticRegression()"
      ],
      "metadata": {
        "id": "-uPJKrkwNq_r"
      },
      "execution_count": 184,
      "outputs": []
    },
    {
      "cell_type": "code",
      "source": [
        "X_train, X_rem, y_train, y_rem = train_test_split(X,y, train_size=0.6)"
      ],
      "metadata": {
        "id": "kZCJ-VUHN04h"
      },
      "execution_count": 185,
      "outputs": []
    },
    {
      "cell_type": "code",
      "source": [
        "test_size = 0.5"
      ],
      "metadata": {
        "id": "3e8SMghxONzE"
      },
      "execution_count": 186,
      "outputs": []
    },
    {
      "cell_type": "code",
      "source": [
        "X_valid, X_test, y_valid, y_test = train_test_split(X_rem,y_rem, test_size=0.5)"
      ],
      "metadata": {
        "id": "Tzr3Jqr8OQ9x"
      },
      "execution_count": 187,
      "outputs": []
    },
    {
      "cell_type": "code",
      "source": [
        "print(X_train.shape)\n"
      ],
      "metadata": {
        "colab": {
          "base_uri": "https://localhost:8080/"
        },
        "id": "bXaVJUlBOUPR",
        "outputId": "9360f43a-1bce-4f6e-eb50-4c838ea68dba"
      },
      "execution_count": 188,
      "outputs": [
        {
          "output_type": "stream",
          "name": "stdout",
          "text": [
            "(420, 24)\n"
          ]
        }
      ]
    },
    {
      "cell_type": "code",
      "source": [
        "print(y_train.shape)"
      ],
      "metadata": {
        "colab": {
          "base_uri": "https://localhost:8080/"
        },
        "id": "E6lBTbgXObr1",
        "outputId": "f49f7ee6-87b0-4b30-fcbd-bdebf6a90b8e"
      },
      "execution_count": 189,
      "outputs": [
        {
          "output_type": "stream",
          "name": "stdout",
          "text": [
            "(420,)\n"
          ]
        }
      ]
    },
    {
      "cell_type": "code",
      "source": [
        "print(X_valid.shape)"
      ],
      "metadata": {
        "colab": {
          "base_uri": "https://localhost:8080/"
        },
        "id": "6lysGs3SOhit",
        "outputId": "2f185960-70d2-4d58-99c7-f1e7f1da107d"
      },
      "execution_count": 190,
      "outputs": [
        {
          "output_type": "stream",
          "name": "stdout",
          "text": [
            "(140, 24)\n"
          ]
        }
      ]
    },
    {
      "cell_type": "code",
      "source": [
        "print(X_valid.shape)"
      ],
      "metadata": {
        "colab": {
          "base_uri": "https://localhost:8080/"
        },
        "id": "82xxYoNnOlvo",
        "outputId": "63fac1f7-4d1e-4099-a062-ea7c6f6af272"
      },
      "execution_count": 191,
      "outputs": [
        {
          "output_type": "stream",
          "name": "stdout",
          "text": [
            "(140, 24)\n"
          ]
        }
      ]
    },
    {
      "cell_type": "code",
      "source": [
        "print(X_test.shape)"
      ],
      "metadata": {
        "colab": {
          "base_uri": "https://localhost:8080/"
        },
        "id": "lwfDAq5GOri8",
        "outputId": "0fdde818-1b55-4937-da93-d2c0c34821f1"
      },
      "execution_count": 192,
      "outputs": [
        {
          "output_type": "stream",
          "name": "stdout",
          "text": [
            "(140, 24)\n"
          ]
        }
      ]
    },
    {
      "cell_type": "code",
      "source": [
        "print(y_test.shape)"
      ],
      "metadata": {
        "colab": {
          "base_uri": "https://localhost:8080/"
        },
        "id": "VbNMdJS9O2Yg",
        "outputId": "1bfa55a6-7700-4a45-f72f-7fd83d31d0c3"
      },
      "execution_count": 193,
      "outputs": [
        {
          "output_type": "stream",
          "name": "stdout",
          "text": [
            "(140,)\n"
          ]
        }
      ]
    },
    {
      "cell_type": "code",
      "source": [
        "from sklearn.preprocessing import StandardScaler\n",
        "from sklearn.svm import SVC\n",
        "from sklearn.metrics import confusion_matrix\n",
        "from sklearn.metrics import precision_score, recall_score, f1_score, accuracy_score"
      ],
      "metadata": {
        "id": "bbp93okKO49N"
      },
      "execution_count": 194,
      "outputs": []
    },
    {
      "cell_type": "code",
      "source": [
        "sc = StandardScaler()\n",
        "sc.fit(X_train)\n",
        "X_train_std = sc.transform(X_train)\n",
        "X_test_std = sc.transform(X_test)\n",
        "\n",
        "svc = SVC(kernel='linear', C=10.0, random_state=1)\n",
        "svc.fit(X_train, y_train)"
      ],
      "metadata": {
        "colab": {
          "base_uri": "https://localhost:8080/"
        },
        "id": "J3809_D8QUrs",
        "outputId": "6af8df40-3ed4-4a5c-edec-6ddaba2efed3"
      },
      "execution_count": 195,
      "outputs": [
        {
          "output_type": "execute_result",
          "data": {
            "text/plain": [
              "SVC(C=10.0, kernel='linear', random_state=1)"
            ]
          },
          "metadata": {},
          "execution_count": 195
        }
      ]
    },
    {
      "cell_type": "code",
      "source": [
        "y_pred = svc.predict(X_test)"
      ],
      "metadata": {
        "id": "DVYBeosVQav2"
      },
      "execution_count": 196,
      "outputs": []
    },
    {
      "cell_type": "code",
      "source": [
        "print('F1 Score: %.3f' % f1_score(y_test, y_pred))"
      ],
      "metadata": {
        "colab": {
          "base_uri": "https://localhost:8080/"
        },
        "id": "t_QZ-0orQiR0",
        "outputId": "8397d1ad-5708-4a51-d6da-9f6c26f54bd7"
      },
      "execution_count": 197,
      "outputs": [
        {
          "output_type": "stream",
          "name": "stdout",
          "text": [
            "F1 Score: 0.853\n"
          ]
        }
      ]
    }
  ]
}